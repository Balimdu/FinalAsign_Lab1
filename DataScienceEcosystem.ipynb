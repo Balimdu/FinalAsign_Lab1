{
 "cells": [
  {
   "cell_type": "markdown",
   "id": "36dbd63c-ced2-4562-9a9b-f1fa270dfaa9",
   "metadata": {},
   "source": [
    "## Data Science Tools and Ecosystem"
   ]
  },
  {
   "cell_type": "markdown",
   "id": "a058dfeb-5cad-48a0-ac06-6dacd084daa7",
   "metadata": {},
   "source": [
    "In this notebook, Data Science Tools and Ecosystem are summarized."
   ]
  },
  {
   "cell_type": "markdown",
   "id": "280400f9-3649-4bbf-9f49-8cbac068860f",
   "metadata": {},
   "source": [
    "Some of the popular languages that Data Scientists use are:\n",
    "1. Python\n",
    "2. R\n",
    "3. Julia"
   ]
  },
  {
   "cell_type": "markdown",
   "id": "d7482d0c-dd2b-4887-89bd-4f03243273e9",
   "metadata": {},
   "source": [
    "### Objectives:\n",
    "- Jupyter Notebooks are used in Data Science for recording experiments and projects.\n",
    "- Jupyter Lab is compatible with many files and Data Science languages.\n",
    "- There are different ways to install and use Jupyter Notebooks.\n",
    "- How to run, delete, and insert a code cell in Jupyter Notebooks.\n",
    "- How to run multiple notebooks at the same time."
   ]
  },
  {
   "cell_type": "markdown",
   "id": "4f785789-3c0b-460e-bae2-ccdcef2d8aca",
   "metadata": {},
   "source": [
    "Some of the commonly used libraries used by Data Scientists include:\n",
    "1. Pandas\n",
    "2. TensorFlow\n",
    "3. Ggplot2"
   ]
  },
  {
   "cell_type": "markdown",
   "id": "7f9743ce-4cc1-4e34-b80f-dc77f3552918",
   "metadata": {},
   "source": [
    "|Data Science Tools|\n",
    "|------------------|\n",
    "|Jupyter Notebook|\n",
    "|RStudio|\n",
    "|Visual Studio Code|"
   ]
  },
  {
   "cell_type": "markdown",
   "id": "7c90e581-401c-427c-a76a-d3f81ab9bed9",
   "metadata": {},
   "source": [
    "### Below are a few examples of evaluating arithmetic expressions in Python"
   ]
  },
  {
   "cell_type": "code",
   "execution_count": 7,
   "id": "c3ab9906-a40f-4219-95ef-f38e1b1d49b0",
   "metadata": {},
   "outputs": [
    {
     "name": "stdout",
     "output_type": "stream",
     "text": [
      "17\n"
     ]
    }
   ],
   "source": [
    "#This a simple arithmetic expression to mutiply then add integers#\n",
    "print((3*4)+5)"
   ]
  },
  {
   "cell_type": "code",
   "execution_count": 8,
   "id": "4b504bd8-9e7b-4e03-af98-fa887e5c8c2e",
   "metadata": {},
   "outputs": [
    {
     "name": "stdout",
     "output_type": "stream",
     "text": [
      "Hours= 3\n"
     ]
    }
   ],
   "source": [
    "#This will convert 200 minutes to hours by diving by 60#\n",
    "min=200\n",
    "h=min//60\n",
    "print(\"Hours=\",h)\n"
   ]
  },
  {
   "cell_type": "markdown",
   "id": "a03bd776-37d5-4c6a-b804-4b1e3a9a9d8a",
   "metadata": {},
   "source": [
    "## Author\n",
    "Bayathokoza Jeffrey Mdunjana"
   ]
  },
  {
   "cell_type": "code",
   "execution_count": null,
   "id": "9f68a12d-7dc8-44d8-b150-3fac0396f3c8",
   "metadata": {},
   "outputs": [],
   "source": []
  }
 ],
 "metadata": {
  "kernelspec": {
   "display_name": "Python 3 (ipykernel)",
   "language": "python",
   "name": "python3"
  },
  "language_info": {
   "codemirror_mode": {
    "name": "ipython",
    "version": 3
   },
   "file_extension": ".py",
   "mimetype": "text/x-python",
   "name": "python",
   "nbconvert_exporter": "python",
   "pygments_lexer": "ipython3",
   "version": "3.11.9"
  }
 },
 "nbformat": 4,
 "nbformat_minor": 5
}
